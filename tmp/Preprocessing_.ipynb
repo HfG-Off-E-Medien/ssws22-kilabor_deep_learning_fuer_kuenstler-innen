{
 "cells": [
  {
   "cell_type": "code",
   "execution_count": 1,
   "metadata": {},
   "outputs": [],
   "source": [
    "import cv2\n",
    "import os\n",
    "import matplotlib.pyplot as plt\n",
    "import numpy as np\n",
    "from utils import apend_slash_to_dirpath_if_not_pressent\n",
    "from utils import resize"
   ]
  },
  {
   "cell_type": "code",
   "execution_count": 2,
   "metadata": {},
   "outputs": [],
   "source": [
    "imagefiles_a = \"C:/.../object_detection/mydataset_Becher\"\n",
    "imagefiles_b = \"C:/.../object_detection/mydataset_Iphone\"\n",
    "\n",
    "imagefiles_a = apend_slash_to_dirpath_if_not_pressent(imagefiles_a)\n",
    "imagefiles_b = apend_slash_to_dirpath_if_not_pressent(imagefiles_b)\n"
   ]
  },
  {
   "cell_type": "code",
   "execution_count": 3,
   "metadata": {},
   "outputs": [],
   "source": [
    "\"\"\"\n",
    "func:       import_images_from_dir()\n",
    "arg:        srt: img_dir\n",
    "            int: max_num_images\n",
    "Returns:    Loads all images in img_dir as npy-array and returns them in a list\n",
    "\"\"\"\n",
    "def import_images_from_dir(img_dir, max_num_images=100):\n",
    "    images = []\n",
    "    c = 0\n",
    "\n",
    "    for filename in os.listdir(img_dir):\n",
    "        # Check if jpg-meta file\n",
    "        if filename[0:2] == \"._\":\n",
    "            continue\n",
    "        if filename[-3:] not in (\"jpg\", \"png\", \"gif\"):\n",
    "            continue\n",
    "\n",
    "        #Try to load image \n",
    "        img = cv2.imread(img_dir + filename)\n",
    "        if img is None:\n",
    "            continue\n",
    "\n",
    "        # Appende image to list \n",
    "        images.append(img)\n",
    "        c += 1\n",
    "        if c == max_num_images:\n",
    "            print(\"early stopping because max_num_images is reached \")\n",
    "            break\n",
    "\n",
    "    print(str(len(images)), \"images successfully loaded\")\n",
    "\n",
    "    return images\n",
    "\n",
    "#####################################################################################\n",
    "\"\"\"\n",
    "func:       square_padding(img)\n",
    "arges:      npy-array : img\n",
    "returns:    the img padded with black bars such that its side dimensions are square.\n",
    "\"\"\"\n",
    "def square_padding(img):\n",
    "\n",
    "    short_sidelen = min(img.shape[:2])\n",
    "    max_sidelen = max(img.shape[:2])\n",
    "    delta = max_sidelen - short_sidelen\n",
    "\n",
    "    delta_bar_1 = delta // 2\n",
    "    delta_bar_2 = delta - delta_bar_1\n",
    "\n",
    "\n",
    "    #Höhenformat\n",
    "    if img.shape[0] > img.shape[1]:\n",
    "        left_bar = np.zeros((img.shape[0], delta_bar_1, 3)).astype(np.uint8)\n",
    "        right_bar = np.zeros((img.shape[0], delta_bar_2, 3)).astype(np.uint8)\n",
    "        img_padded = np.concatenate ((left_bar,img, right_bar), axis=1)\n",
    "\n",
    "    # Breitenformat\n",
    "    elif img.shape[1] > img.shape[0]:\n",
    "        top_bar = np.zeros((delta_bar_1, img.shape[1], 3)).astype(np.uint8)\n",
    "        bot_bar = np.zeros((delta_bar_2, img.shape[1], 3)).astype(np.uint8)\n",
    "        img_padded =np.concatenate ((top_bar, img, bot_bar), axis=0)\n",
    "\n",
    "    img_padded = np.uint8(img_padded)\n",
    "\n",
    "    return img_padded\n",
    "\n",
    "\n",
    "#####################################################################################\n",
    "\n",
    "def center_zoom(img, r):\n",
    "    new_sidedims = (round(img.shape[0]*r), round(img.shape[1]*r))\n",
    "    zoomed_img = resize(img, new_sidedims)\n",
    "    delta_height = new_sidedims[0] - img.shape[0]\n",
    "    delta_height_1 = delta_height // 2\n",
    "    delta_height_2 = delta_height - delta_height_1\n",
    "    delta_with = new_sidedims[1] - img.shape[1]\n",
    "\n",
    "    delta_with_1 = delta_with // 2\n",
    "    delta_with_2 = delta_with - delta_with_1\n",
    "\n",
    "    zoomed_img = zoomed_img[delta_height_1: -delta_height_2, delta_with_1: -delta_with_2]\n",
    "    return zoomed_img\n",
    "\n",
    "#####################################################################################\n",
    "\n",
    "def flip(img):\n",
    "    return cv2.flip(img,1)\n",
    "\n",
    "#####################################################################################\n",
    "\n",
    "#resizes the miage so that de long side is equvalent to the final side length.\n",
    "def resize_to_size(img, size):\n",
    "    long_sidelen = max(img.shape[:2])\n",
    "    r = size / long_sidelen\n",
    "    new_sidedims = (round(img.shape[0]*r), round(img.shape[1]*r))\n",
    "    return resize(img, new_sidedims)\n",
    "\n",
    "def augment(\n",
    "        img,\n",
    "        r, \n",
    "        random_flip = False,\n",
    "        output_size = 128\n",
    "        ):\n",
    "    img = center_zoom(img, r)\n",
    "    if random_flip:\n",
    "        img = flip(img)\n",
    "    img = resize_to_size(img, output_size)\n",
    "    img = square_padding(img)\n",
    "    return img\n",
    "\n",
    "\"\"\"\n",
    "func:       render_grid(imgs, filepath)\n",
    "args:       list of npy-arrays : imgs\n",
    "            opt: string        : filepath\n",
    "returns:    an image with a grid of all the images as a npy-array\n",
    "\"\"\"\n",
    "def render_grid(imgs, filepath=None):\n",
    "    shape = imgs[0].shape\n",
    "    n = int(np.ceil(np.sqrt(len(imgs))))\n",
    "    grid = np.zeros((shape[0] * n, shape[1] * n, 3)).astype(np.uint8)\n",
    "\n",
    "    for i, img in enumerate(imgs):\n",
    "        row = i % n\n",
    "        col = int((i - row) / n)\n",
    "        start_idx_height = col * shape[0]\n",
    "        end_idx_height = (col+1) * shape[0]\n",
    "        start_idx_width = row * shape[1]\n",
    "        end_idx_width = (row+1) * shape[1]\n",
    "        grid[start_idx_height : end_idx_height, start_idx_width : end_idx_width] = img\n",
    "\n",
    "    if filepath != None:\n",
    "        cv2.imwrite(filepath, grid)\n",
    "    return grid"
   ]
  },
  {
   "cell_type": "code",
   "execution_count": 26,
   "metadata": {},
   "outputs": [
    {
     "name": "stdout",
     "output_type": "stream",
     "text": [
      "early stopping because max_num_images is reached \n",
      "13 images successfully loaded\n"
     ]
    }
   ],
   "source": [
    "images_a = import_images_from_dir(imagefiles_a, 13)"
   ]
  },
  {
   "cell_type": "code",
   "execution_count": 56,
   "metadata": {},
   "outputs": [
    {
     "data": {
      "text/plain": [
       "True"
      ]
     },
     "execution_count": 56,
     "metadata": {},
     "output_type": "execute_result"
    }
   ],
   "source": [
    "imgs = [resize_to_size(img, 128) for img in images_a]\n",
    "\n"
   ]
  },
  {
   "cell_type": "code",
   "execution_count": null,
   "metadata": {},
   "outputs": [],
   "source": [
    "plt.imshow(cv2.cvtColor(grid, cv2.COLOR_BGR2RGB))"
   ]
  },
  {
   "cell_type": "code",
   "execution_count": null,
   "metadata": {},
   "outputs": [],
   "source": []
  },
  {
   "cell_type": "code",
   "execution_count": 46,
   "metadata": {},
   "outputs": [
    {
     "data": {
      "text/plain": [
       "[3, 5, 9, 0]"
      ]
     },
     "execution_count": 46,
     "metadata": {},
     "output_type": "execute_result"
    }
   ],
   "source": [
    "b"
   ]
  },
  {
   "cell_type": "code",
   "execution_count": 47,
   "metadata": {},
   "outputs": [
    {
     "name": "stdout",
     "output_type": "stream",
     "text": [
      "0 3\n",
      "1 5\n",
      "2 9\n",
      "3 0\n"
     ]
    }
   ],
   "source": [
    "for i, x in enumerate(b):\n",
    "    print(i, x)"
   ]
  },
  {
   "cell_type": "code",
   "execution_count": 24,
   "metadata": {},
   "outputs": [
    {
     "ename": "SyntaxError",
     "evalue": "unmatched ')' (1372841055.py, line 3)",
     "output_type": "error",
     "traceback": [
      "\u001b[1;36m  Input \u001b[1;32mIn [24]\u001b[1;36m\u001b[0m\n\u001b[1;33m    zoomed_img =)center_zoom(img, 2.5)\u001b[0m\n\u001b[1;37m                ^\u001b[0m\n\u001b[1;31mSyntaxError\u001b[0m\u001b[1;31m:\u001b[0m unmatched ')'\n"
     ]
    }
   ],
   "source": [
    "img=images_a[0]\n",
    "zoomed_img =)center_zoom(img, 2.5)\n",
    "\n"
   ]
  },
  {
   "cell_type": "code",
   "execution_count": 21,
   "metadata": {},
   "outputs": [
    {
     "data": {
      "text/plain": [
       "(720, 1280, 3)"
      ]
     },
     "execution_count": 21,
     "metadata": {},
     "output_type": "execute_result"
    }
   ],
   "source": [
    "img.shape"
   ]
  },
  {
   "cell_type": "code",
   "execution_count": 8,
   "metadata": {},
   "outputs": [],
   "source": [
    "zoomed_img = center_zoom(img, 2.5)"
   ]
  }
 ],
 "metadata": {
  "kernelspec": {
   "display_name": "Python 3.9.12 ('kilab')",
   "language": "python",
   "name": "python3"
  },
  "language_info": {
   "codemirror_mode": {
    "name": "ipython",
    "version": 3
   },
   "file_extension": ".py",
   "mimetype": "text/x-python",
   "name": "python",
   "nbconvert_exporter": "python",
   "pygments_lexer": "ipython3",
   "version": "3.9.12"
  },
  "orig_nbformat": 4,
  "vscode": {
   "interpreter": {
    "hash": "ae0eab63ca51c069bcc14e75e2c7d6e0afcd48699d3e73932dc01cda641bc4dc"
   }
  }
 },
 "nbformat": 4,
 "nbformat_minor": 2
}
