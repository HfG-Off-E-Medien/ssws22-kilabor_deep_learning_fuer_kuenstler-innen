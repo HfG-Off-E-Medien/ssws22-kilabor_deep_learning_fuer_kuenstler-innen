{
 "cells": [
  {
   "cell_type": "code",
   "execution_count": 11,
   "metadata": {},
   "outputs": [],
   "source": [
    "import torch\n",
    "import torch.nn as nn\n",
    "from torch.nn import functional as F\n",
    "\n",
    "from torch.utils.data import Dataset, DataLoader\n",
    "from torch.optim import Adam\n",
    "\n",
    "import numpy as np\n",
    "from img_funcs import *\n",
    "from utils import *\n",
    "\n",
    "from tqdm import tqdm"
   ]
  },
  {
   "cell_type": "code",
   "execution_count": 2,
   "metadata": {},
   "outputs": [],
   "source": [
    "imagesfiles_a = r\"...\\drumstick\"\n",
    "imagesfiles_b = r\"...\\duebel\"\n",
    "imagesfiles_a = append_slash_to_dirpath_if_not_present(imagesfiles_a)\n",
    "imagesfiles_b = append_slash_to_dirpath_if_not_present(imagesfiles_b)"
   ]
  },
  {
   "cell_type": "code",
   "execution_count": 3,
   "metadata": {},
   "outputs": [],
   "source": [
    "class BinaryClassificationDataset(Dataset):\n",
    "    def __init__(self, imgs_a, imgs_b, size):\n",
    "        self.size = size\n",
    "        self.labels = torch.cat((torch.zeros(len(imgs_a)), torch.ones(len(imgs_b))))\n",
    "        self.imgs = imgs_a + imgs_b\n",
    "\n",
    "    def __len__(self):\n",
    "        return len(self.imgs)\n",
    "\n",
    "    def forward_transform(self, img):\n",
    "        #img = np.transpose(img, (2, 0, 1))\n",
    "        img = torch.Tensor(img)\n",
    "        return img\n",
    "\n",
    "    def __getitem__(self, idx):\n",
    "        img, label = self.imgs[idx], self.labels[idx]\n",
    "        img = augment(img)\n",
    "        img = self.forward_transform(img)\n",
    "        return img, label"
   ]
  },
  {
   "cell_type": "code",
   "execution_count": 4,
   "metadata": {},
   "outputs": [
    {
     "name": "stdout",
     "output_type": "stream",
     "text": [
      "Early stopping because max_num_images is reached.\n",
      "184  images successfully loaded.\n",
      "Early stopping because max_num_images is reached.\n",
      "184  images successfully loaded.\n"
     ]
    }
   ],
   "source": [
    "imgs_a = import_images_from_dir(imagesfiles_a, max_num_images=184)\n",
    "imgs_b = import_images_from_dir(imagesfiles_b, max_num_images=184)\n",
    "\n",
    "def validation_split(imgs_a, imgs_b, split=0.2):\n",
    "    split_a = round(len(imgs_a) * split)\n",
    "    split_b = round(len(imgs_b) * split)\n",
    "    return imgs_a[split_a:], imgs_b[split_b:], imgs_a[:split_a], imgs_b[:split_b]"
   ]
  },
  {
   "cell_type": "code",
   "execution_count": 5,
   "metadata": {},
   "outputs": [],
   "source": [
    "train_a, train_b, test_a, test_b = validation_split(imgs_a, imgs_b, split=0.2)\n",
    "\n",
    "SIZE = 128\n",
    "BATCH_SIZE = 16\n",
    "device = 'cpu'"
   ]
  },
  {
   "cell_type": "code",
   "execution_count": 6,
   "metadata": {},
   "outputs": [],
   "source": [
    "train_dataset = BinaryClassificationDataset(train_a, train_b, SIZE)\n",
    "test_dataset  = BinaryClassificationDataset(test_a, test_b, SIZE)\n",
    "train_dataset = DataLoader(train_dataset, batch_size=BATCH_SIZE, shuffle=True, drop_last=False)\n",
    "test_dataset  = DataLoader(test_dataset, batch_size=BATCH_SIZE, shuffle=True, drop_last=False)"
   ]
  },
  {
   "cell_type": "code",
   "execution_count": 7,
   "metadata": {},
   "outputs": [],
   "source": [
    "class Model(nn.Module):\n",
    "    def __init__(self,\n",
    "        n_input_neurons,\n",
    "        n_hidden_neurons):\n",
    "        super().__init__()\n",
    "\n",
    "        self.layer1 = nn.Linear(n_input_neurons, n_hidden_neurons)\n",
    "        self.layer2 = nn.Linear(n_hidden_neurons, 1)\n",
    "\n",
    "    def forward(self, img):\n",
    "        x = torch.flatten(img, start_dim=1)\n",
    "        x = self.layer1(x)\n",
    "        x = F.relu(x)\n",
    "        x = self.layer2(x)\n",
    "        x = F.sigmoid(x)\n",
    "        return x"
   ]
  },
  {
   "cell_type": "code",
   "execution_count": 8,
   "metadata": {},
   "outputs": [],
   "source": [
    "M = Model(3 * SIZE**2, 1000)\n",
    "opt = Adam(M.parameters(), lr=1e-4)"
   ]
  },
  {
   "cell_type": "code",
   "execution_count": 17,
   "metadata": {},
   "outputs": [],
   "source": [
    "def train_epoch():\n",
    "    epoch_loss = 0\n",
    "    pbar = tqdm(train_dataset, total=len(train_dataset))\n",
    "    for img_batch, label_batch in pbar:\n",
    "        opt.zero_grad()\n",
    "        pred = M(img_batch)\n",
    "        loss = torch.mean(torch.abs(pred - label_batch))\n",
    "        loss.backward()\n",
    "        opt.step()\n",
    "        loss = loss.detach().cpu().numpy()\n",
    "        epoch_loss += loss\n",
    "        pbar.set_description(\"mae: \"+str(np.round(loss, 4)))\n",
    "    epoch_loss /= len(train_dataset)\n",
    "    return epoch_loss\n",
    "\n",
    "def evaluate():\n",
    "    with torch.no_grad():\n",
    "        test_loss = 0\n",
    "        for img_batch, label_batch in test_dataset:\n",
    "            pred = M(img_batch)\n",
    "            loss = torch.mean(torch.abs(pred - label_batch))\n",
    "            test_loss += loss.detach().cpu().numpy()\n",
    "        test_loss /= len(test_dataset)\n",
    "        return test_loss\n"
   ]
  },
  {
   "cell_type": "code",
   "execution_count": 18,
   "metadata": {},
   "outputs": [
    {
     "name": "stderr",
     "output_type": "stream",
     "text": [
      "mae: 0.5: 100%|██████████| 19/19 [00:16<00:00,  1.13it/s]   \n"
     ]
    },
    {
     "name": "stdout",
     "output_type": "stream",
     "text": [
      "train: 0.5024671052631579 eval: 0.5130625009536743\n"
     ]
    },
    {
     "name": "stderr",
     "output_type": "stream",
     "text": [
      "mae: 1.0: 100%|██████████| 19/19 [00:15<00:00,  1.24it/s]   \n"
     ]
    },
    {
     "name": "stdout",
     "output_type": "stream",
     "text": [
      "train: 0.5209703947368421 eval: 0.515625\n"
     ]
    },
    {
     "name": "stderr",
     "output_type": "stream",
     "text": [
      "mae: 0.3889: 100%|██████████| 19/19 [00:15<00:00,  1.23it/s]\n"
     ]
    },
    {
     "name": "stdout",
     "output_type": "stream",
     "text": [
      "train: 0.49826388923745407 eval: 0.515625\n"
     ]
    },
    {
     "name": "stderr",
     "output_type": "stream",
     "text": [
      "mae: 0.3333: 100%|██████████| 19/19 [00:15<00:00,  1.25it/s]\n"
     ]
    },
    {
     "name": "stdout",
     "output_type": "stream",
     "text": [
      "train: 0.49081688648776006 eval: 0.4884999990463257\n"
     ]
    },
    {
     "name": "stderr",
     "output_type": "stream",
     "text": [
      "mae: 0.5: 100%|██████████| 19/19 [00:15<00:00,  1.24it/s]   \n"
     ]
    },
    {
     "name": "stdout",
     "output_type": "stream",
     "text": [
      "train: 0.501233552631579 eval: 0.496875\n"
     ]
    },
    {
     "name": "stderr",
     "output_type": "stream",
     "text": [
      "mae: 0.5: 100%|██████████| 19/19 [00:15<00:00,  1.22it/s]   \n"
     ]
    },
    {
     "name": "stdout",
     "output_type": "stream",
     "text": [
      "train: 0.5053453947368421 eval: 0.4845625042915344\n"
     ]
    },
    {
     "name": "stderr",
     "output_type": "stream",
     "text": [
      "mae: 0.5: 100%|██████████| 19/19 [00:16<00:00,  1.18it/s]   \n"
     ]
    },
    {
     "name": "stdout",
     "output_type": "stream",
     "text": [
      "train: 0.5020559210526315 eval: 0.503125\n"
     ]
    },
    {
     "name": "stderr",
     "output_type": "stream",
     "text": [
      "mae: 0.3333: 100%|██████████| 19/19 [00:16<00:00,  1.13it/s]\n"
     ]
    },
    {
     "name": "stdout",
     "output_type": "stream",
     "text": [
      "train: 0.49904057069828633 eval: 0.48125\n"
     ]
    },
    {
     "name": "stderr",
     "output_type": "stream",
     "text": [
      "mae: 0.625:  11%|█         | 2/19 [00:01<00:15,  1.09it/s] \n"
     ]
    },
    {
     "ename": "KeyboardInterrupt",
     "evalue": "",
     "output_type": "error",
     "traceback": [
      "\u001b[1;31m---------------------------------------------------------------------------\u001b[0m",
      "\u001b[1;31mKeyboardInterrupt\u001b[0m                         Traceback (most recent call last)",
      "\u001b[1;32mc:\\Users\\mberg\\Desktop\\kilab_2023\\object_recognition\\train.ipynb Cell 10\u001b[0m in \u001b[0;36m<cell line: 1>\u001b[1;34m()\u001b[0m\n\u001b[0;32m      <a href='vscode-notebook-cell:/c%3A/Users/mberg/Desktop/kilab_2023/object_recognition/train.ipynb#X12sZmlsZQ%3D%3D?line=0'>1</a>\u001b[0m \u001b[39mfor\u001b[39;00m i \u001b[39min\u001b[39;00m \u001b[39mrange\u001b[39m(\u001b[39m10\u001b[39m):\n\u001b[1;32m----> <a href='vscode-notebook-cell:/c%3A/Users/mberg/Desktop/kilab_2023/object_recognition/train.ipynb#X12sZmlsZQ%3D%3D?line=1'>2</a>\u001b[0m     train_loss \u001b[39m=\u001b[39m train_epoch()\n\u001b[0;32m      <a href='vscode-notebook-cell:/c%3A/Users/mberg/Desktop/kilab_2023/object_recognition/train.ipynb#X12sZmlsZQ%3D%3D?line=2'>3</a>\u001b[0m     eval_loss \u001b[39m=\u001b[39m evaluate()\n\u001b[0;32m      <a href='vscode-notebook-cell:/c%3A/Users/mberg/Desktop/kilab_2023/object_recognition/train.ipynb#X12sZmlsZQ%3D%3D?line=4'>5</a>\u001b[0m     \u001b[39mprint\u001b[39m(\u001b[39m'\u001b[39m\u001b[39mtrain: \u001b[39m\u001b[39m'\u001b[39m\u001b[39m+\u001b[39m\u001b[39mstr\u001b[39m(train_loss)\u001b[39m+\u001b[39m\u001b[39m'\u001b[39m\u001b[39m eval: \u001b[39m\u001b[39m'\u001b[39m \u001b[39m+\u001b[39m \u001b[39mstr\u001b[39m(eval_loss))\n",
      "\u001b[1;32mc:\\Users\\mberg\\Desktop\\kilab_2023\\object_recognition\\train.ipynb Cell 10\u001b[0m in \u001b[0;36mtrain_epoch\u001b[1;34m()\u001b[0m\n\u001b[0;32m      <a href='vscode-notebook-cell:/c%3A/Users/mberg/Desktop/kilab_2023/object_recognition/train.ipynb#X12sZmlsZQ%3D%3D?line=1'>2</a>\u001b[0m epoch_loss \u001b[39m=\u001b[39m \u001b[39m0\u001b[39m\n\u001b[0;32m      <a href='vscode-notebook-cell:/c%3A/Users/mberg/Desktop/kilab_2023/object_recognition/train.ipynb#X12sZmlsZQ%3D%3D?line=2'>3</a>\u001b[0m pbar \u001b[39m=\u001b[39m tqdm(train_dataset, total\u001b[39m=\u001b[39m\u001b[39mlen\u001b[39m(train_dataset))\n\u001b[1;32m----> <a href='vscode-notebook-cell:/c%3A/Users/mberg/Desktop/kilab_2023/object_recognition/train.ipynb#X12sZmlsZQ%3D%3D?line=3'>4</a>\u001b[0m \u001b[39mfor\u001b[39;00m img_batch, label_batch \u001b[39min\u001b[39;00m pbar:\n\u001b[0;32m      <a href='vscode-notebook-cell:/c%3A/Users/mberg/Desktop/kilab_2023/object_recognition/train.ipynb#X12sZmlsZQ%3D%3D?line=4'>5</a>\u001b[0m     opt\u001b[39m.\u001b[39mzero_grad()\n\u001b[0;32m      <a href='vscode-notebook-cell:/c%3A/Users/mberg/Desktop/kilab_2023/object_recognition/train.ipynb#X12sZmlsZQ%3D%3D?line=5'>6</a>\u001b[0m     pred \u001b[39m=\u001b[39m M(img_batch)\n",
      "File \u001b[1;32mc:\\Users\\mberg\\Anaconda3\\envs\\kilab\\lib\\site-packages\\tqdm\\std.py:1195\u001b[0m, in \u001b[0;36mtqdm.__iter__\u001b[1;34m(self)\u001b[0m\n\u001b[0;32m   1192\u001b[0m time \u001b[39m=\u001b[39m \u001b[39mself\u001b[39m\u001b[39m.\u001b[39m_time\n\u001b[0;32m   1194\u001b[0m \u001b[39mtry\u001b[39;00m:\n\u001b[1;32m-> 1195\u001b[0m     \u001b[39mfor\u001b[39;00m obj \u001b[39min\u001b[39;00m iterable:\n\u001b[0;32m   1196\u001b[0m         \u001b[39myield\u001b[39;00m obj\n\u001b[0;32m   1197\u001b[0m         \u001b[39m# Update and possibly print the progressbar.\u001b[39;00m\n\u001b[0;32m   1198\u001b[0m         \u001b[39m# Note: does not call self.update(1) for speed optimisation.\u001b[39;00m\n",
      "File \u001b[1;32mc:\\Users\\mberg\\Anaconda3\\envs\\kilab\\lib\\site-packages\\torch\\utils\\data\\dataloader.py:633\u001b[0m, in \u001b[0;36m_BaseDataLoaderIter.__next__\u001b[1;34m(self)\u001b[0m\n\u001b[0;32m    630\u001b[0m \u001b[39mif\u001b[39;00m \u001b[39mself\u001b[39m\u001b[39m.\u001b[39m_sampler_iter \u001b[39mis\u001b[39;00m \u001b[39mNone\u001b[39;00m:\n\u001b[0;32m    631\u001b[0m     \u001b[39m# TODO(https://github.com/pytorch/pytorch/issues/76750)\u001b[39;00m\n\u001b[0;32m    632\u001b[0m     \u001b[39mself\u001b[39m\u001b[39m.\u001b[39m_reset()  \u001b[39m# type: ignore[call-arg]\u001b[39;00m\n\u001b[1;32m--> 633\u001b[0m data \u001b[39m=\u001b[39m \u001b[39mself\u001b[39;49m\u001b[39m.\u001b[39;49m_next_data()\n\u001b[0;32m    634\u001b[0m \u001b[39mself\u001b[39m\u001b[39m.\u001b[39m_num_yielded \u001b[39m+\u001b[39m\u001b[39m=\u001b[39m \u001b[39m1\u001b[39m\n\u001b[0;32m    635\u001b[0m \u001b[39mif\u001b[39;00m \u001b[39mself\u001b[39m\u001b[39m.\u001b[39m_dataset_kind \u001b[39m==\u001b[39m _DatasetKind\u001b[39m.\u001b[39mIterable \u001b[39mand\u001b[39;00m \\\n\u001b[0;32m    636\u001b[0m         \u001b[39mself\u001b[39m\u001b[39m.\u001b[39m_IterableDataset_len_called \u001b[39mis\u001b[39;00m \u001b[39mnot\u001b[39;00m \u001b[39mNone\u001b[39;00m \u001b[39mand\u001b[39;00m \\\n\u001b[0;32m    637\u001b[0m         \u001b[39mself\u001b[39m\u001b[39m.\u001b[39m_num_yielded \u001b[39m>\u001b[39m \u001b[39mself\u001b[39m\u001b[39m.\u001b[39m_IterableDataset_len_called:\n",
      "File \u001b[1;32mc:\\Users\\mberg\\Anaconda3\\envs\\kilab\\lib\\site-packages\\torch\\utils\\data\\dataloader.py:677\u001b[0m, in \u001b[0;36m_SingleProcessDataLoaderIter._next_data\u001b[1;34m(self)\u001b[0m\n\u001b[0;32m    675\u001b[0m \u001b[39mdef\u001b[39;00m \u001b[39m_next_data\u001b[39m(\u001b[39mself\u001b[39m):\n\u001b[0;32m    676\u001b[0m     index \u001b[39m=\u001b[39m \u001b[39mself\u001b[39m\u001b[39m.\u001b[39m_next_index()  \u001b[39m# may raise StopIteration\u001b[39;00m\n\u001b[1;32m--> 677\u001b[0m     data \u001b[39m=\u001b[39m \u001b[39mself\u001b[39;49m\u001b[39m.\u001b[39;49m_dataset_fetcher\u001b[39m.\u001b[39;49mfetch(index)  \u001b[39m# may raise StopIteration\u001b[39;00m\n\u001b[0;32m    678\u001b[0m     \u001b[39mif\u001b[39;00m \u001b[39mself\u001b[39m\u001b[39m.\u001b[39m_pin_memory:\n\u001b[0;32m    679\u001b[0m         data \u001b[39m=\u001b[39m _utils\u001b[39m.\u001b[39mpin_memory\u001b[39m.\u001b[39mpin_memory(data, \u001b[39mself\u001b[39m\u001b[39m.\u001b[39m_pin_memory_device)\n",
      "File \u001b[1;32mc:\\Users\\mberg\\Anaconda3\\envs\\kilab\\lib\\site-packages\\torch\\utils\\data\\_utils\\fetch.py:51\u001b[0m, in \u001b[0;36m_MapDatasetFetcher.fetch\u001b[1;34m(self, possibly_batched_index)\u001b[0m\n\u001b[0;32m     49\u001b[0m         data \u001b[39m=\u001b[39m \u001b[39mself\u001b[39m\u001b[39m.\u001b[39mdataset\u001b[39m.\u001b[39m__getitems__(possibly_batched_index)\n\u001b[0;32m     50\u001b[0m     \u001b[39melse\u001b[39;00m:\n\u001b[1;32m---> 51\u001b[0m         data \u001b[39m=\u001b[39m [\u001b[39mself\u001b[39m\u001b[39m.\u001b[39mdataset[idx] \u001b[39mfor\u001b[39;00m idx \u001b[39min\u001b[39;00m possibly_batched_index]\n\u001b[0;32m     52\u001b[0m \u001b[39melse\u001b[39;00m:\n\u001b[0;32m     53\u001b[0m     data \u001b[39m=\u001b[39m \u001b[39mself\u001b[39m\u001b[39m.\u001b[39mdataset[possibly_batched_index]\n",
      "File \u001b[1;32mc:\\Users\\mberg\\Anaconda3\\envs\\kilab\\lib\\site-packages\\torch\\utils\\data\\_utils\\fetch.py:51\u001b[0m, in \u001b[0;36m<listcomp>\u001b[1;34m(.0)\u001b[0m\n\u001b[0;32m     49\u001b[0m         data \u001b[39m=\u001b[39m \u001b[39mself\u001b[39m\u001b[39m.\u001b[39mdataset\u001b[39m.\u001b[39m__getitems__(possibly_batched_index)\n\u001b[0;32m     50\u001b[0m     \u001b[39melse\u001b[39;00m:\n\u001b[1;32m---> 51\u001b[0m         data \u001b[39m=\u001b[39m [\u001b[39mself\u001b[39;49m\u001b[39m.\u001b[39;49mdataset[idx] \u001b[39mfor\u001b[39;00m idx \u001b[39min\u001b[39;00m possibly_batched_index]\n\u001b[0;32m     52\u001b[0m \u001b[39melse\u001b[39;00m:\n\u001b[0;32m     53\u001b[0m     data \u001b[39m=\u001b[39m \u001b[39mself\u001b[39m\u001b[39m.\u001b[39mdataset[possibly_batched_index]\n",
      "\u001b[1;32mc:\\Users\\mberg\\Desktop\\kilab_2023\\object_recognition\\train.ipynb Cell 10\u001b[0m in \u001b[0;36mBinaryClassificationDataset.__getitem__\u001b[1;34m(self, idx)\u001b[0m\n\u001b[0;32m     <a href='vscode-notebook-cell:/c%3A/Users/mberg/Desktop/kilab_2023/object_recognition/train.ipynb#X12sZmlsZQ%3D%3D?line=14'>15</a>\u001b[0m \u001b[39mdef\u001b[39;00m \u001b[39m__getitem__\u001b[39m(\u001b[39mself\u001b[39m, idx):\n\u001b[0;32m     <a href='vscode-notebook-cell:/c%3A/Users/mberg/Desktop/kilab_2023/object_recognition/train.ipynb#X12sZmlsZQ%3D%3D?line=15'>16</a>\u001b[0m     img, label \u001b[39m=\u001b[39m \u001b[39mself\u001b[39m\u001b[39m.\u001b[39mimgs[idx], \u001b[39mself\u001b[39m\u001b[39m.\u001b[39mlabels[idx]\n\u001b[1;32m---> <a href='vscode-notebook-cell:/c%3A/Users/mberg/Desktop/kilab_2023/object_recognition/train.ipynb#X12sZmlsZQ%3D%3D?line=16'>17</a>\u001b[0m     img \u001b[39m=\u001b[39m augment(img)\n\u001b[0;32m     <a href='vscode-notebook-cell:/c%3A/Users/mberg/Desktop/kilab_2023/object_recognition/train.ipynb#X12sZmlsZQ%3D%3D?line=17'>18</a>\u001b[0m     img \u001b[39m=\u001b[39m \u001b[39mself\u001b[39m\u001b[39m.\u001b[39mforward_transform(img)\n\u001b[0;32m     <a href='vscode-notebook-cell:/c%3A/Users/mberg/Desktop/kilab_2023/object_recognition/train.ipynb#X12sZmlsZQ%3D%3D?line=18'>19</a>\u001b[0m     \u001b[39mreturn\u001b[39;00m img, label\n",
      "File \u001b[1;32mc:\\Users\\mberg\\Desktop\\kilab_2023\\object_recognition\\img_funcs.py:126\u001b[0m, in \u001b[0;36maugment\u001b[1;34m(img, r, random_flip, output_size)\u001b[0m\n\u001b[0;32m    124\u001b[0m     img \u001b[39m=\u001b[39m flip(img)\n\u001b[0;32m    125\u001b[0m img \u001b[39m=\u001b[39m resize_to_size(img, output_size)\n\u001b[1;32m--> 126\u001b[0m img \u001b[39m=\u001b[39m square_padding(img)\n\u001b[0;32m    127\u001b[0m \u001b[39mreturn\u001b[39;00m img\n",
      "File \u001b[1;32mc:\\Users\\mberg\\Desktop\\kilab_2023\\object_recognition\\img_funcs.py:65\u001b[0m, in \u001b[0;36msquare_padding\u001b[1;34m(img)\u001b[0m\n\u001b[0;32m     63\u001b[0m \u001b[39m# Breitenformat\u001b[39;00m\n\u001b[0;32m     64\u001b[0m \u001b[39melif\u001b[39;00m img\u001b[39m.\u001b[39mshape[\u001b[39m1\u001b[39m] \u001b[39m>\u001b[39m img\u001b[39m.\u001b[39mshape[\u001b[39m0\u001b[39m]:\n\u001b[1;32m---> 65\u001b[0m     top_bar \u001b[39m=\u001b[39m np\u001b[39m.\u001b[39;49mzeros((delta_bar_1, img\u001b[39m.\u001b[39;49mshape[\u001b[39m1\u001b[39;49m], \u001b[39m3\u001b[39;49m))\u001b[39m.\u001b[39mastype(np\u001b[39m.\u001b[39muint8)\n\u001b[0;32m     66\u001b[0m     bot_bar \u001b[39m=\u001b[39m np\u001b[39m.\u001b[39mzeros((delta_bar_2, img\u001b[39m.\u001b[39mshape[\u001b[39m1\u001b[39m], \u001b[39m3\u001b[39m))\u001b[39m.\u001b[39mastype(np\u001b[39m.\u001b[39muint8)\n\u001b[0;32m     67\u001b[0m     img_padded \u001b[39m=\u001b[39m np\u001b[39m.\u001b[39mconcatenate((top_bar, img, bot_bar), axis\u001b[39m=\u001b[39m\u001b[39m0\u001b[39m)\n",
      "\u001b[1;31mKeyboardInterrupt\u001b[0m: "
     ]
    }
   ],
   "source": [
    "for i in range(10):\n",
    "    train_loss = train_epoch()\n",
    "    eval_loss = evaluate()\n",
    "\n",
    "    print('train: '+str(train_loss)+' eval: ' + str(eval_loss))"
   ]
  },
  {
   "cell_type": "code",
   "execution_count": 28,
   "metadata": {},
   "outputs": [
    {
     "data": {
      "text/plain": [
       "torch.Size([16, 128, 128, 3])"
      ]
     },
     "execution_count": 28,
     "metadata": {},
     "output_type": "execute_result"
    }
   ],
   "source": [
    "torch.flatten(x, start_d)"
   ]
  },
  {
   "cell_type": "code",
   "execution_count": null,
   "metadata": {},
   "outputs": [],
   "source": []
  }
 ],
 "metadata": {
  "kernelspec": {
   "display_name": "Python 3",
   "language": "python",
   "name": "python3"
  },
  "language_info": {
   "codemirror_mode": {
    "name": "ipython",
    "version": 3
   },
   "file_extension": ".py",
   "mimetype": "text/x-python",
   "name": "python",
   "nbconvert_exporter": "python",
   "pygments_lexer": "ipython3",
   "version": "3.10.4"
  },
  "orig_nbformat": 4
 },
 "nbformat": 4,
 "nbformat_minor": 2
}
