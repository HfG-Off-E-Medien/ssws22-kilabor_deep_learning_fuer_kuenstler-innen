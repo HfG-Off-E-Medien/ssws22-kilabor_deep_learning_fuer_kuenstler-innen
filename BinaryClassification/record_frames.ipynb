{
 "cells": [
  {
   "cell_type": "code",
   "execution_count": null,
   "metadata": {},
   "outputs": [],
   "source": [
    "# 1.) Record video using laptop-webcam\n",
    "import cv2\n",
    "import os\n",
    "from utils import append_slash_to_dirpath_if_not_present\n",
    "\n",
    "\"\"\"\n",
    "output_path = \"output.mp4\"\n",
    "\n",
    "fourcc = cv2.VideoWriter_fourcc(*\"mp4v\") # codec\n",
    "cap = cv2.VideoCapture(0) # get default camera\n",
    "\n",
    "# get width and heigh of video\n",
    "width = int(cap.get(cv2.CAP_PROP_FRAME_WIDTH))\n",
    "height = int(cap.get(cv2.CAP_PROP_FRAME_HEIGHT))\n",
    "\n",
    "# create videowriter object to write the video to output file\n",
    "out = cv2.VideoWriter(output_path, fourcc, 25, (width, height))\n",
    "\"\"\""
   ]
  },
  {
   "cell_type": "code",
   "execution_count": 44,
   "metadata": {},
   "outputs": [],
   "source": [
    "def record_frames(output_dir):\n",
    "    output_dir = append_slash_to_dirpath_if_not_present(output_dir)\n",
    "\n",
    "    # If output_dir does not exist, create it\n",
    "    if not os.path.exists(output_dir):\n",
    "        os.mkdir(output_dir)\n",
    "\n",
    "    cap = cv2.VideoCapture(0) # get default camera\n",
    "    # get width and height of video\n",
    "    width = int(cap.get(cv2.CAP_PROP_FRAME_WIDTH))\n",
    "    height = int(cap.get(cv2.CAP_PROP_FRAME_HEIGHT))\n",
    "\n",
    "    c = 0\n",
    "    while True:\n",
    "        ret, frame = cap.read()\n",
    "\n",
    "        if (ret == False):\n",
    "            print(\"frame couldn't be retrieved\")\n",
    "            break\n",
    "    \n",
    "        cv2.imshow(\"frame\", frame)\n",
    "        cv2.imwrite(output_dir+str(c)+'.jpg', frame)\n",
    "        c += 1\n",
    "\n",
    "        if cv2.waitKey(1) & 0xFF == ord('q'):\n",
    "            break\n",
    "    \n",
    "    cap.release() # Webcam freigeben\n",
    "    cv2.destroyAllWindows() # alle bildfenster schließen\n",
    "    cv2.waitKey(1) # esoterischer fix gegen freeze bei macbooks\n",
    "\n",
    "def delete_dir(dir):\n",
    "    dir = append_slash_to_dirpath_if_not_present(dir)\n",
    "    for filename in os.listdir(dir):\n",
    "        os.remove(dir + filename)\n",
    "    os.removedirs(dir)"
   ]
  },
  {
   "cell_type": "code",
   "execution_count": 34,
   "metadata": {},
   "outputs": [],
   "source": [
    "record_frames(\"mydataset_take0\")"
   ]
  },
  {
   "cell_type": "code",
   "execution_count": 43,
   "metadata": {},
   "outputs": [
    {
     "name": "stdout",
     "output_type": "stream",
     "text": [
      "removed successfully\n"
     ]
    }
   ],
   "source": [
    "delete_dir(\"mydataset_take0\")"
   ]
  },
  {
   "cell_type": "code",
   "execution_count": null,
   "metadata": {},
   "outputs": [],
   "source": []
  }
 ],
 "metadata": {
  "kernelspec": {
   "display_name": "Python 3",
   "language": "python",
   "name": "python3"
  },
  "language_info": {
   "codemirror_mode": {
    "name": "ipython",
    "version": 3
   },
   "file_extension": ".py",
   "mimetype": "text/x-python",
   "name": "python",
   "nbconvert_exporter": "python",
   "pygments_lexer": "ipython3",
   "version": "3.10.4"
  },
  "orig_nbformat": 4
 },
 "nbformat": 4,
 "nbformat_minor": 2
}
